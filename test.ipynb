{
 "cells": [
  {
   "cell_type": "code",
   "execution_count": 1,
   "metadata": {},
   "outputs": [],
   "source": [
    "import pandas as pd"
   ]
  },
  {
   "cell_type": "code",
   "execution_count": null,
   "metadata": {},
   "outputs": [
    {
     "name": "stdout",
     "output_type": "stream",
     "text": [
      "Cosine Similarity: 0.11234277891542774\n",
      "Cosine Similarity (cleaned): 0.13328575937887677\n"
     ]
    }
   ],
   "source": [
    "from sklearn.feature_extraction.text import TfidfVectorizer\n",
    "from sklearn.metrics.pairwise import cosine_similarity\n",
    "\n",
    "def calculate_cosine_similarity(keywords1, keywords2):\n",
    "    \"\"\"\n",
    "    Calculates the cosine similarity between two sets of keywords using TF-IDF.\n",
    "\n",
    "    Args:\n",
    "        keywords1: A list of strings representing the keywords for the first website.\n",
    "        keywords2: A list of strings representing the keywords for the second website.\n",
    "\n",
    "    Returns:\n",
    "        The cosine similarity score (a float between 0 and 1).\n",
    "    \"\"\"\n",
    "\n",
    "    # Combine the keywords into a single list of strings, where each element is\n",
    "    # the keywords for one website.\n",
    "    documents = [\" \".join(keywords1), \" \".join(keywords2)]\n",
    "\n",
    "    # Create a TF-IDF vectorizer. This will:\n",
    "    # 1. Tokenize the strings (split them into words).\n",
    "    # 2. Count the term frequencies.\n",
    "    # 3. Calculate the IDF for each term.\n",
    "    # 4. Calculate the TF-IDF scores.\n",
    "    vectorizer = TfidfVectorizer()\n",
    "\n",
    "    # Fit and transform the documents into a TF-IDF matrix.\n",
    "    tfidf_matrix = vectorizer.fit_transform(documents)\n",
    "\n",
    "    # Calculate the cosine similarity between the two TF-IDF vectors.\n",
    "    cosine_sim = cosine_similarity(tfidf_matrix[0:1], tfidf_matrix[1:2])[0][0]\n",
    "\n",
    "    return cosine_sim\n",
    "\n",
    "\n",
    "similarity = calculate_cosine_similarity(your_keywords, competitor_keywords)\n",
    "print(f\"Cosine Similarity: {similarity}\")\n",
    "\n",
    "\n"
   ]
  },
  {
   "cell_type": "markdown",
   "metadata": {},
   "source": [
    "attractions, dubai, city, travel, guide, trip, desert, visit, world, best, enjoy, restaurants, experience, book, traditional, activities, free, things, malls, find, need, hotels, offers, take, international\n",
    "\n",
    "dubai restaurants al burj restaurant best khalifa water dining shopping creek difc visa summer arab activities food people things home park polo family festival near"
   ]
  },
  {
   "cell_type": "code",
   "execution_count": 7,
   "metadata": {},
   "outputs": [],
   "source": [
    "keywords = 'attractions, dubai, city, travel, guide, trip, desert, visit, world, best, enjoy, restaurants, experience, book, traditional, activities, free, things, malls, find, need, hotels, offers, take, international'"
   ]
  },
  {
   "cell_type": "code",
   "execution_count": 3,
   "metadata": {},
   "outputs": [],
   "source": [
    "import os\n",
    "from dotenv import load_dotenv\n",
    "load_dotenv()\n",
    "from langchain_google_genai import ChatGoogleGenerativeAI\n",
    "from langchain.prompts import PromptTemplate\n",
    "from langchain_core.output_parsers import StrOutputParser"
   ]
  },
  {
   "cell_type": "code",
   "execution_count": 4,
   "metadata": {},
   "outputs": [],
   "source": [
    "GOOGLE_API_KEY = os.getenv(\"GOOGLE_API_KEY\")\n",
    "os.environ['GOOGLE_API_KEY'] = GOOGLE_API_KEY\n",
    "from langchain_google_genai import ChatGoogleGenerativeAI\n",
    "llm = ChatGoogleGenerativeAI(model = \"gemini-2.0-flash\")"
   ]
  },
  {
   "cell_type": "code",
   "execution_count": 22,
   "metadata": {},
   "outputs": [
    {
     "data": {
      "text/plain": [
       "\"## Dubai: Your Ultimate Travel Guide\\n\\n**Discover the Best of Dubai: Attractions, Activities & Experiences**\\n\\n**Planning Your Trip to Dubai:**\\n\\n*   **Why Visit Dubai?** A world-class city offering a unique blend of traditional culture and modern marvels.\\n*   **Best Time to Travel:** Enjoy Dubai's pleasant weather during the winter months.\\n*   **Booking Your Trip:** Find the best hotels and flight offers for your budget.\\n\\n**Must-See Attractions:**\\n\\n*   **Iconic Landmarks:** Burj Khalifa, Dubai Frame, The Palm Jumeirah.\\n*   **Cultural Experiences:** Explore traditional souks, visit historical neighborhoods.\\n*   **Desert Adventures:** Take a thrilling desert safari and experience Bedouin culture.\\n\\n**Things To Do in Dubai:**\\n\\n*   **Activities for Everyone:** From water parks to theme parks, Dubai has it all.\\n*   **Free Things to Do:** Explore beaches, parks, and public art installations.\\n*   **Shopping Paradise:** Discover world-class malls and international brands.\\n*   **Culinary Delights:** Enjoy diverse cuisine in Dubai's best restaurants.\\n\\n**Experiences You Won't Forget:**\\n\\n*   **Luxury & Relaxation:** Indulge in spas, beach clubs, and fine dining.\\n*   **Adventure & Thrills:** Try skydiving, water sports, and desert adventures.\\n*   **Cultural Immersion:** Attend cultural events and learn about Emirati traditions.\\n\\n**Find What You Need:**\\n\\n*   **Hotels in Dubai:** From budget-friendly to luxurious, find the perfect accommodation.\\n*   **Restaurants in Dubai:** Explore a wide range of international and traditional cuisine.\\n*   **Transportation in Dubai:** Navigate the city with ease using taxis, metro, and buses.\\n*   **Dubai Malls:** Shopping guide.\""
      ]
     },
     "execution_count": 22,
     "metadata": {},
     "output_type": "execute_result"
    }
   ],
   "source": [
    "template = \"\"\" \n",
    "You are an AI assitant, your job is to read input keywords from SEO sites, then generate a Hypothetical document from the given \n",
    "keywords {keywords}\n",
    "Note: give a straight forward answer without adding extra words, started immediately with the Hypothetical document\n",
    "\"\"\"\n",
    "output_parser = StrOutputParser()\n",
    "prompt = PromptTemplate.from_template(template)\n",
    "chain = prompt | llm | output_parser\n",
    "\n",
    "response = chain.invoke({\"keywords\":keywords})\n",
    "response"
   ]
  },
  {
   "cell_type": "code",
   "execution_count": null,
   "metadata": {},
   "outputs": [],
   "source": []
  },
  {
   "cell_type": "code",
   "execution_count": 18,
   "metadata": {},
   "outputs": [],
   "source": [
    "keywords1 = 'dubai restaurants al burj restaurant best khalifa water dining shopping creek difc visa summer arab activities food people things home park polo family festival near'"
   ]
  },
  {
   "cell_type": "code",
   "execution_count": 23,
   "metadata": {},
   "outputs": [
    {
     "data": {
      "text/plain": [
       "\"## Dubai: Your Guide to Food, Fun, and Festivities\\n\\n**Restaurants:**\\n\\n*   **Al Burj Restaurant:** Experience unparalleled dining with breathtaking Khalifa views.\\n*   **Best Restaurants:** Discover Dubai's diverse culinary scene, from traditional Arab food to international flavors.\\n*   **Water Dining:** Enjoy unique dining experiences on the Creek or along the coast.\\n*   **DIFC Restaurants:** Explore upscale dining options in Dubai's financial hub.\\n\\n**Activities & Things To Do:**\\n\\n*   **Summer Activities:** Beat the heat with indoor attractions and water parks.\\n*   **Arab Activities:** Immerse yourself in local culture with traditional experiences.\\n*   **Things to Do:** Explore Dubai's iconic landmarks and hidden gems.\\n*   **Family Activities:** Create lasting memories with family-friendly attractions.\\n*   **Festival:** Catch the latest Dubai shopping festival or food festival.\\n*   **Near Me:** Find the best activities and restaurants near you.\\n*   **Park:** Relax and unwind in Dubai's beautiful parks.\\n*   **Polo:** Experience the thrill of polo matches.\\n\\n**Shopping:**\\n\\n*   **Shopping:** Indulge in retail therapy at Dubai's world-class malls.\\n\\n**Practical Information:**\\n\\n*   **Khalifa:** Visit the iconic Burj Khalifa.\\n*   **Creek:** Explore the historic Dubai Creek.\\n*   **Visa:** Get the latest visa information for your trip.\\n*   **People:** Experience the warmth and hospitality of the local people.\\n*   **Home:** Find the perfect accommodation for your stay.\""
      ]
     },
     "execution_count": 23,
     "metadata": {},
     "output_type": "execute_result"
    }
   ],
   "source": [
    "\n",
    "response1 = chain.invoke({\"keywords\":keywords1})\n",
    "response1"
   ]
  },
  {
   "cell_type": "code",
   "execution_count": 24,
   "metadata": {},
   "outputs": [
    {
     "name": "stdout",
     "output_type": "stream",
     "text": [
      "Paragraph Similarity (SBERT): 0.9074810743331909\n"
     ]
    }
   ],
   "source": [
    "from sentence_transformers import SentenceTransformer\n",
    "from sklearn.metrics.pairwise import cosine_similarity\n",
    "\n",
    "def calculate_paragraph_similarity(paragraph1, paragraph2):\n",
    "    \"\"\"\n",
    "    Calculates the cosine similarity between two paragraphs using Sentence Transformers.\n",
    "\n",
    "    Args:\n",
    "        paragraph1: The first paragraph (a string).\n",
    "        paragraph2: The second paragraph (a string).\n",
    "\n",
    "    Returns:\n",
    "        The cosine similarity score (a float between 0 and 1).\n",
    "    \"\"\"\n",
    "\n",
    "    # Load a pre-trained Sentence Transformer model.  \"all-mpnet-base-v2\" is a good general-purpose model.\n",
    "    # Other models available: https://www.sbert.net/docs/pretrained_models.html\n",
    "    model = SentenceTransformer(\"all-MiniLM-L6-v2\") # You may need to download this on the first run\n",
    "\n",
    "    # Encode the paragraphs into vectors.\n",
    "    embedding1 = model.encode(paragraph1)\n",
    "    embedding2 = model.encode(paragraph2)\n",
    "\n",
    "    # Reshape the embeddings to be 2D arrays for cosine_similarity\n",
    "    embedding1 = embedding1.reshape(1, -1)\n",
    "    embedding2 = embedding2.reshape(1, -1)\n",
    "\n",
    "    # Calculate the cosine similarity.\n",
    "    similarity = cosine_similarity(embedding1, embedding2)[0][0]\n",
    "\n",
    "    return similarity\n",
    "\n",
    "\n",
    "\n",
    "similarity = calculate_paragraph_similarity(response, response1)\n",
    "print(f\"Paragraph Similarity (SBERT): {similarity}\")"
   ]
  },
  {
   "cell_type": "code",
   "execution_count": 1,
   "metadata": {},
   "outputs": [
    {
     "name": "stderr",
     "output_type": "stream",
     "text": [
      "d:\\Miniconda\\envs\\qdrantlangchain\\lib\\site-packages\\tqdm\\auto.py:21: TqdmWarning: IProgress not found. Please update jupyter and ipywidgets. See https://ipywidgets.readthedocs.io/en/stable/user_install.html\n",
      "  from .autonotebook import tqdm as notebook_tqdm\n"
     ]
    }
   ],
   "source": [
    "import os\n",
    "from dotenv import load_dotenv\n",
    "load_dotenv()\n",
    "from langchain_google_genai import ChatGoogleGenerativeAI\n",
    "from langchain.prompts import PromptTemplate\n",
    "from langchain_core.output_parsers import StrOutputParser\n",
    "\n",
    "GOOGLE_API_KEY = os.getenv(\"GOOGLE_API_KEY\")\n",
    "os.environ['GOOGLE_API_KEY'] = GOOGLE_API_KEY\n",
    "from langchain_google_genai import ChatGoogleGenerativeAI\n",
    "llm = ChatGoogleGenerativeAI(model = \"gemini-2.0-flash\")\n",
    "\n",
    "def analyze_intent(keywords):\n",
    "    template = \"\"\" \n",
    "        You are a specialized query generator.  Given the following keywords, your sole task is to formulate a concise and effective search query for finding information on the web.  Return ONLY the search query itself.\n",
    "\n",
    "        Keywords: {keywords}\n",
    "    \"\"\"\n",
    "    output_parser = StrOutputParser()\n",
    "    prompt = PromptTemplate.from_template(template)\n",
    "    chain = prompt | llm | output_parser\n",
    "\n",
    "    response = chain.invoke({\"keywords\":keywords})\n",
    "    return response"
   ]
  },
  {
   "cell_type": "code",
   "execution_count": 3,
   "metadata": {},
   "outputs": [
    {
     "data": {
      "text/plain": [
       "'Dubai restaurants Burj Khalifa Creek DIFC summer activities visa family'"
      ]
     },
     "execution_count": 3,
     "metadata": {},
     "output_type": "execute_result"
    }
   ],
   "source": [
    "keywords1 = 'dubai restaurants al burj restaurant best khalifa water dining shopping creek difc visa summer arab activities food people things home park polo family festival near'\n",
    "analyze_intent(keywords1)"
   ]
  },
  {
   "cell_type": "code",
   "execution_count": 7,
   "metadata": {},
   "outputs": [],
   "source": [
    "import os\n",
    "from dotenv import load_dotenv\n",
    "load_dotenv()\n",
    "from langchain_google_genai import ChatGoogleGenerativeAI\n",
    "from langchain.prompts import PromptTemplate\n",
    "from langchain_core.output_parsers import StrOutputParser\n",
    "\n",
    "GOOGLE_API_KEY = os.getenv(\"GOOGLE_API_KEY\")\n",
    "os.environ['GOOGLE_API_KEY'] = GOOGLE_API_KEY\n",
    "from langchain_google_genai import ChatGoogleGenerativeAI\n",
    "llm = ChatGoogleGenerativeAI(model = \"gemini-2.0-flash\")\n",
    "\n",
    "def analyze_intent(keywords):\n",
    "    template = \"\"\"\n",
    "        You are a specialized intent analyzer. Given the following keywords extracted from a website, \n",
    "        your SOLE TASK is to identify the PRIMARY INTENT of the webpage.\n",
    "\n",
    "        Keywords: {keywords}\n",
    "    \"\"\"\n",
    "    output_parser = StrOutputParser()\n",
    "    prompt = PromptTemplate.from_template(template)\n",
    "    chain = prompt | llm | output_parser\n",
    "\n",
    "    response = chain.invoke({\"keywords\":keywords})\n",
    "    return response"
   ]
  },
  {
   "cell_type": "code",
   "execution_count": 8,
   "metadata": {},
   "outputs": [
    {
     "data": {
      "text/plain": [
       "'The primary intent of the webpage is to provide information and recommendations related to **tourism and leisure activities in Dubai, with a focus on dining and attractions like the Burj Khalifa.**'"
      ]
     },
     "execution_count": 8,
     "metadata": {},
     "output_type": "execute_result"
    }
   ],
   "source": [
    "analyze_intent(keywords1)"
   ]
  },
  {
   "cell_type": "code",
   "execution_count": null,
   "metadata": {},
   "outputs": [],
   "source": []
  },
  {
   "cell_type": "code",
   "execution_count": 11,
   "metadata": {},
   "outputs": [
    {
     "name": "stdout",
     "output_type": "stream",
     "text": [
      "Generated Search Query: Dubai travel guide: restaurants, activities, shopping, and lifestyle\n"
     ]
    }
   ],
   "source": [
    "import os\n",
    "from dotenv import load_dotenv\n",
    "load_dotenv()\n",
    "from langchain_google_genai import ChatGoogleGenerativeAI\n",
    "from langchain.prompts import PromptTemplate\n",
    "from langchain_core.output_parsers import StrOutputParser\n",
    "\n",
    "GOOGLE_API_KEY = os.getenv(\"GOOGLE_API_KEY\")\n",
    "os.environ['GOOGLE_API_KEY'] = GOOGLE_API_KEY\n",
    "from langchain_google_genai import ChatGoogleGenerativeAI\n",
    "llm = ChatGoogleGenerativeAI(model = \"gemini-2.0-flash\")\n",
    "\n",
    "def analyze_intent(keywords):\n",
    "    template = \"\"\" \n",
    "        You are a specialized query generator. Given the following keywords, \n",
    "        your sole task is to formulate a concise and effective search query for finding comprehensive information on the web,\n",
    "        covering a broad range of topics mentioned.  Do not overly focus on one specific topic; aim for a balanced and general query.\n",
    "        Return ONLY the search query itself.\n",
    "\n",
    "        Keywords: {keywords}\n",
    "    \"\"\"\n",
    "    output_parser = StrOutputParser()\n",
    "    prompt = PromptTemplate.from_template(template)\n",
    "    chain = prompt | llm | output_parser\n",
    "\n",
    "    response = chain.invoke({\"keywords\":keywords})\n",
    "    return response\n",
    "\n",
    "# Example Usage (Testing):\n",
    "keywords = \"dubai restaurants al burj restaurant best khalifa water dining shopping creek difc visa summer arab activities food people things home park polo family festival near\"\n",
    "query = analyze_intent(keywords)\n",
    "print(f\"Generated Search Query: {query}\")"
   ]
  },
  {
   "cell_type": "code",
   "execution_count": 15,
   "metadata": {},
   "outputs": [],
   "source": [
    "import os\n",
    "from dotenv import load_dotenv\n",
    "load_dotenv()\n",
    "from langchain_google_genai import ChatGoogleGenerativeAI\n",
    "from langchain.prompts import PromptTemplate\n",
    "from langchain_core.output_parsers import StrOutputParser\n",
    "\n",
    "GOOGLE_API_KEY = os.getenv(\"GOOGLE_API_KEY\")\n",
    "os.environ['GOOGLE_API_KEY'] = GOOGLE_API_KEY\n",
    "from langchain_google_genai import ChatGoogleGenerativeAI\n",
    "llm = ChatGoogleGenerativeAI(model = \"gemini-2.0-flash\")\n",
    "\n",
    "def find_missing_topic(keywords):\n",
    "    template = \"\"\"\n",
    "        You are a specialized topic analyzer. Given the following keywords extracted from a website, \n",
    "        your SOLE TASK is to identify the POTENTIAL MISSING TOPICS of a webpage. \n",
    "        Return ONLY the identified POTENTIAL MISSING TOPICS.\n",
    "\n",
    "        Keywords: {keywords}\n",
    "    \"\"\"\n",
    "    output_parser = StrOutputParser()\n",
    "    prompt = PromptTemplate.from_template(template)\n",
    "    chain = prompt | llm | output_parser\n",
    "\n",
    "    response = chain.invoke({\"keywords\":keywords})\n",
    "    return response"
   ]
  },
  {
   "cell_type": "code",
   "execution_count": 17,
   "metadata": {},
   "outputs": [
    {
     "data": {
      "text/plain": [
       "'*   **Specific Cuisine Types:** (e.g., Indian, Italian, Chinese, Seafood, Emirati) - The keywords mention \"food\" but lack specifics.\\n*   **Price Ranges:** (e.g., Budget-friendly, Mid-range, Fine Dining) - Helps users filter based on their budget.\\n*   **Restaurant Ambiance/Atmosphere:** (e.g., Romantic, Lively, Casual, Business)\\n*   **Dress Code:** Knowing the expected attire is useful for planning.\\n*   **Reservation Information:** How to book a table, cancellation policies.\\n*   **Menu Highlights/Signature Dishes:** Enticing descriptions of what to eat.\\n*   **Dietary Options:** (e.g., Vegetarian, Vegan, Gluten-Free, Halal)\\n*   **Deals and Promotions:** (e.g., Happy Hour, Brunch Deals, Set Menus)\\n*   **Customer Reviews/Ratings:** Social proof and different perspectives.\\n*   **Transportation/Parking:** How to get to the restaurants, parking availability.\\n*   **Specific Locations/Areas:** Beyond just \"Dubai,\" more granular location details.\\n*   **Events and Entertainment:** Live music, special events, themed nights.\\n*   **Cultural Norms/Etiquette:** Useful information for tourists, especially regarding dining.\\n*   **Alcohol Availability:** Important for some diners.\\n*   **Nearby Attractions:** What else to do around the restaurants or dining areas.\\n*   **Ramadan Considerations:** Special hours or menus during the holy month.\\n*   **Brunch Options:** A very popular dining experience, particularly in Dubai.\\n*   **Nightlife:** Bars, lounges, clubs, etc. that offer food and drinks.\\n*   **Delivery/Takeout Options:** If available.\\n*   **Pet-Friendly Options:** If any restaurants allow pets.'"
      ]
     },
     "execution_count": 17,
     "metadata": {},
     "output_type": "execute_result"
    }
   ],
   "source": [
    "keywords1 = 'dubai, restaurants, al, burj, restaurant, best, khalifa, water, dining, shopping, creek, difc, visa, summer, arab, activities, food, people, things, home, park, polo, family, festival, near'\n",
    "find_missing_topic(keywords1)"
   ]
  }
 ],
 "metadata": {
  "kernelspec": {
   "display_name": "qdrantlangchain",
   "language": "python",
   "name": "python3"
  },
  "language_info": {
   "codemirror_mode": {
    "name": "ipython",
    "version": 3
   },
   "file_extension": ".py",
   "mimetype": "text/x-python",
   "name": "python",
   "nbconvert_exporter": "python",
   "pygments_lexer": "ipython3",
   "version": "3.10.16"
  }
 },
 "nbformat": 4,
 "nbformat_minor": 2
}
